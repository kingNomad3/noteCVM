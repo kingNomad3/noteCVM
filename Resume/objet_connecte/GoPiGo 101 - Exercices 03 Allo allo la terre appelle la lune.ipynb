{
 "cells": [
  {
   "cell_type": "markdown",
   "metadata": {},
   "source": [
    "---\n",
    "\n",
    "# Allo allo, la terre appelle la lune!\n",
    "### GoPiGo 101 - Série d'exercices 3\n",
    "##### Manipulation de la **télécommande**. \n",
    "\n",
    "Pour cet exercice, vous devez avoir connecté le récepteur infrarouge à un port analogique/numérique (`AD1` ou `AD2`). [Voir cette image](https://gopigo3.readthedocs.io/en/master/api-basic/structure.html#hardware-ports).\n",
    "\n",
    "---\n",
    "\n",
    "Les fonctions suivantes permettent la manipulation de la télécommande :\n",
    " - `EasyGoPiGo3.init_remote` : crée un objet `easysensors.Remote` permettant d'interagir avec la télécommande\n",
    " - `Remote.read` : retourne un code correspondant à la touche lue (un **entier** correspondant à l'index d'oû se trouve la touche dans ce tableau)\n",
    "   - `keycodes = ['', 'up', 'left', 'ok', 'right', 'down', '1', '2', '3', '4', '5', '6', '7', '8', '9', '*', '0', '#']`\n",
    "   - la valeur `keycodes[0]` (la valeur `''`) indique qu'il n'y a aucune touche d'appuyée\n",
    "   - une lecture erronnée retourne -1\n",
    " - `Remote.get_remote_code` : retourne une **chaîne de caractères** correspondant à la touche lue (soit la chaîne de caractères spécifiée par le tableau `keycodes`)\n",
    "\n",
    "\n",
    "**Important** : Vous remarquerez que la performance associée à l'usage de la télécommande est plutôt faible. D'ailleurs, on peut observer :\n",
    " - le temps de réponse est relativement lent\n",
    " - un seul bouton à la fois peut être détecté : si plusieurs touches sont actives, alors le résultat est équivalent à aucune touche\n",
    " - la réception est sensible à la distance et aux obstacles intermédiaires\n",
    " - la qualité de la réception est intermittente et il est relativement difficile de maintenir toujours la même performance\n",
    " - il n'y a pas de mécanisme de gestion d'action comme des écouteurs de style `on_key_pressed` et `on_key_released`\n",
    " - dans certains cas, la fonction `get_remote_code` ne fonctionne pas bien alors que la fonction `read` semble toujours foncionner\n",
    "\n",
    "Il faudra en tenir compte de toutes ces caractéristiques dans vos programmes.\n",
    "\n",
    "### Démonstration"
   ]
  },
  {
   "cell_type": "code",
   "execution_count": 2,
   "metadata": {},
   "outputs": [
    {
     "ename": "ModuleNotFoundError",
     "evalue": "No module named 'easygopigo3'",
     "output_type": "error",
     "traceback": [
      "\u001b[1;31m---------------------------------------------------------------------------\u001b[0m",
      "\u001b[1;31mModuleNotFoundError\u001b[0m                       Traceback (most recent call last)",
      "Cell \u001b[1;32mIn[2], line 1\u001b[0m\n\u001b[1;32m----> 1\u001b[0m \u001b[39mimport\u001b[39;00m \u001b[39measygopigo3\u001b[39;00m \u001b[39mas\u001b[39;00m \u001b[39mgpg\u001b[39;00m\n\u001b[0;32m      2\u001b[0m \u001b[39mimport\u001b[39;00m \u001b[39mtime\u001b[39;00m\n\u001b[0;32m      4\u001b[0m robot \u001b[39m=\u001b[39m gpg\u001b[39m.\u001b[39mEasyGoPiGo3()\n",
      "\u001b[1;31mModuleNotFoundError\u001b[0m: No module named 'easygopigo3'"
     ]
    }
   ],
   "source": [
    "import easygopigo3 as gpg\n",
    "import time\n",
    "\n",
    "robot = gpg.EasyGoPiGo3()\n",
    "remote_control_port = 'AD1'\n",
    "remote_control = robot.init_remote(port=remote_control_port)\n",
    "\n",
    "\n",
    "# débute l'acquisition tant que la touche 'ok' n'a pas été appuyée\n",
    "print('Acquisition de la télécommande en cours...')\n",
    "key = ''\n",
    "longuest_string = 20 # longueur arbitraire, ne sert que pour l'affichage\n",
    "while key != 'ok':\n",
    "    key = remote_control.get_remote_code()\n",
    "    print(f'\\r{key if key != \"\" else \"   ~~~[no key]~~~\"}', sep='', end=' ' * longuest_string)\n",
    "    \n",
    "print('\\n','...acquisition terminée!')\n",
    "\n",
    "\n",
    "del remote_control\n",
    "del remote_control_port\n",
    "del robot\n",
    "del time\n",
    "del gpg"
   ]
  },
  {
   "cell_type": "markdown",
   "metadata": {},
   "source": [
    "---\n",
    "### Préparation\n",
    "Faites la mise en place du code commun pour cette série d'exercices"
   ]
  },
  {
   "cell_type": "code",
   "execution_count": null,
   "metadata": {},
   "outputs": [],
   "source": [
    "# Mise en place du code commun\n",
    "# ..."
   ]
  },
  {
   "cell_type": "markdown",
   "metadata": {},
   "source": [
    "---\n",
    "### Exercice 3.1. \n",
    "Selon les instructions données par la télécommande, faites les opérations suivantes sur le déplacement du robot :\n",
    "- `up` avance\n",
    "- `down` recule\n",
    "- `right` tourne à droite\n",
    "- `left` tourne à gauche\n",
    "- `ok` arrête\n",
    "- `0` terminer le programme"
   ]
  },
  {
   "cell_type": "code",
   "execution_count": null,
   "metadata": {},
   "outputs": [],
   "source": [
    "# Solution\n",
    "# ..."
   ]
  },
  {
   "cell_type": "markdown",
   "metadata": {},
   "source": [
    "---\n",
    "### Exercice 3.2.\n",
    "Utilisez le robot pour faire une mini calculatrice! \n",
    "\n",
    "Ces touches de la télécommande servent à :\n",
    " - de `0` à `9` : le nombre correspondant\n",
    " - `left` : l'addition\n",
    " - `right` : la soustraction\n",
    " - `ok` : effectue le calcul des informations entrées et termine le programme.\n",
    " \n",
    "_Indice_ simplifiant cet exercice : la fonction `eval` permet l'exécution d'une instruction `Python` existant sous forme de chaîne de caractères. Évidemment, mettre cette _évaluation_ sous surveillance `try` permet de gérer les cas où la chaîne de caractères est invalide.\n",
    "\n",
    "Par exemple, `eval('123 + 321')` donne le résultat `444`."
   ]
  },
  {
   "cell_type": "code",
   "execution_count": null,
   "metadata": {},
   "outputs": [],
   "source": [
    "# Solution\n",
    "# ..."
   ]
  },
  {
   "cell_type": "markdown",
   "metadata": {},
   "source": [
    "---\n",
    "### Exercice 3.3.\n",
    "Faites une boucle de _x_ secondes qui tourne le plus rapidement possible. Cette boucle doit calculer le nombre de fois que chacune des 17 touches est appuyés et l'afficher à l'écran. Vous devez utiliser la fonction `Remote.read`. Ne faites pas de `wait` pour ralentir le programme.\n",
    "\n",
    "Faites une version qui affiche le résultat après le temps écoulé et une autre version qui affiche le résultat pendant les mesures. Dans tous les cas, faites afficher le nombre total de touches appuyées à la toute fin."
   ]
  },
  {
   "cell_type": "code",
   "execution_count": null,
   "metadata": {},
   "outputs": [],
   "source": [
    "# Solution\n",
    "# ..."
   ]
  },
  {
   "cell_type": "markdown",
   "metadata": {},
   "source": [
    "---\n",
    "### Exercice 3.4.\n",
    "Utilisez la télécommande pour contrôler les phares. Voici le actions à donner aux touches :\n",
    " - `1`, `4` et `7` : faites clignoter uniquement le phare gauche aux fréquences suivantes : 1.5 secondes, 1.0 secondes et 0.5 secondes\n",
    " - `2`, `5` et `8` : faites clignoter les 2 phares aux fréquences suivantes : 1.5 secondes, 1.0 secondes et 0.5 secondes\n",
    " - `3`, `6` et `9` : faites clignoter uniquement le phare droit aux fréquences suivantes : 1.5 secondes, 1.0 secondes et 0.5 secondes\n",
    " - `0` : arrête tout clignotement\n",
    " - `ok` arrête le programme\n",
    "\n",
    "Assurez-vous que les phares soient éteints à la sortie du programme.\n",
    "\n",
    "**Attention** : vous ne pouvez pas faire de `wait` pour bloquer le programme!"
   ]
  },
  {
   "cell_type": "code",
   "execution_count": null,
   "metadata": {},
   "outputs": [],
   "source": [
    "# Solution\n",
    "# ..."
   ]
  },
  {
   "cell_type": "markdown",
   "metadata": {},
   "source": [
    "---\n",
    "### Exercice 3.5. *\n",
    "Utilisez la télécommande pour contrôler les phares. Ce programme modifie l'état des phares selon une certaine logique. Voici le sens à donner aux touches :\n",
    " - Les 3 paramètres à manipuler sont :\n",
    "  - phare à faire clignoter :\n",
    "    - `*` : bascule l'état de clignotement du phare de gauche (clignote - ne clignote pas - clignote - ne clignote pas - ...)\n",
    "    - `#` : bascule l'état de clignotement du phare de droite (clignote - ne clignote pas - clignote - ne clignote pas - ...)\n",
    "    - par défaut, les phares clignotent\n",
    "  - durée du cycle :\n",
    "    - débute à 1.0 secondes\n",
    "    - `left` : réduit la durée du cycle \n",
    "      - incrément par interval de 0.25\n",
    "      - minimum de 0.25 seconde\n",
    "    - `right` : augmente la durée du cycle \n",
    "      - incrément par interval de 0.25\n",
    "      - maximum de 2.5 seconde\n",
    "  - ratio ouvert/fermé :\n",
    "    - débute à 0.5\n",
    "    - `up` : augmente la proportion où le phare est allumé \n",
    "      - incrément par interval de 0.1\n",
    "      - maximum de 1.0\n",
    "    - `down` : réduit la proportion où le phare est allumé \n",
    "      - incrément par interval de 0.1\n",
    "      - minimum de 0.0\n",
    " - `0` : arrête tout clignotement et remet toutes les valeurs par défaut\n",
    " - `ok` arrête le programme\n",
    " \n",
    "Vous devez vous assurer qu'il y ait une forme de temporisation sur la lecture de la télécommande pour ne pas passer d'un état à l'autre trop rapidement. Par exemple, un délai d'un quart de seconde peut être satisfaisant. Assurez-vous que les phares soient éteints à la sortie du programme.\n",
    "\n",
    "**Attention** : à cause de la lecture de la télécommande, vous ne pouvez pas faire de `wait` pour bloquer le programme!"
   ]
  },
  {
   "cell_type": "code",
   "execution_count": null,
   "metadata": {},
   "outputs": [],
   "source": [
    "# Solution\n",
    "# ..."
   ]
  },
  {
   "cell_type": "markdown",
   "metadata": {},
   "source": [
    "---\n",
    "### Exercice 3.6. *\n",
    "Faites l'implémentation d'une petite librairie réalisant le patron de conception observateur (_observer_) avec la télécommande. Autrement dit, vous implémentez une boucle de lecture en permanance qui, appelle les fonctions enregistrées pour les évènements `on_key_pressed` et `on_key_released`. Dans les deux cas, on doit faire passer en argument la touche concernée.\n",
    "\n",
    "Lorque votre outil est disponible, utilisez-le pour cette application : simplement afficher une chaîne de caractère qui décrit un évènement `on_key_pressed` ou `on_key_released` lorqu'il arrive."
   ]
  },
  {
   "cell_type": "code",
   "execution_count": null,
   "metadata": {},
   "outputs": [],
   "source": [
    "# Solution\n",
    "# ..."
   ]
  }
 ],
 "metadata": {
  "interpreter": {
   "hash": "11938c6bc6919ae2720b4d5011047913343b08a43b18698fd82dedb0d4417594"
  },
  "kernelspec": {
   "display_name": "Python 3.9.1 64-bit",
   "language": "python",
   "name": "python3"
  },
  "language_info": {
   "codemirror_mode": {
    "name": "ipython",
    "version": 3
   },
   "file_extension": ".py",
   "mimetype": "text/x-python",
   "name": "python",
   "nbconvert_exporter": "python",
   "pygments_lexer": "ipython3",
   "version": "3.10.2"
  }
 },
 "nbformat": 4,
 "nbformat_minor": 4
}
