{
 "cells": [
  {
   "cell_type": "markdown",
   "metadata": {},
   "source": [
    "---\n",
    "\n",
    "# Suis la lumière!\n",
    "### GoPiGo 101 - Série d'exercices 4\n",
    "##### Manipulation de la **DEL** arrière.\n",
    "\n",
    "Pour cet exercice, vous devez avoir installé et connecté la diode électroluminescente (DEL ou _LED_ en anglais) sur l'un des ports `AD1` ou `AD1`. [Voir cette image](https://gopigo3.readthedocs.io/en/master/api-basic/structure.html#hardware-ports).\n",
    "\n",
    "---\n",
    "\n",
    "Les fonctions suivantes permettent la manipulation de la DEL externe :\n",
    " - `easygopigo3.init_led` retourne un objet `easysensors.Led`\n",
    " - `Led.light_max` allume la DEL à la puissance maximum\n",
    " - `Led.light_off` ferme la DEL\n",
    " - `Led.light_on(power)` allume la DEL à la puissance déterminée\n",
    "     - `power` : un entier entre 0 et 100\n",
    " - `Led.is_on` retourne si la DEL est allumée\n",
    "     - retourne un booléen\n",
    " - `Led.is_off` retourne si la DEL est éteinte\n",
    "     - retourne un booléen\n",
    " \n",
    "**Important** : Vous remarquerez que la performance lumineuse de la DEL est plutôt faible et très directionnelle.\n",
    "\n",
    "\n",
    "### Démonstration"
   ]
  },
  {
   "cell_type": "code",
   "execution_count": null,
   "metadata": {},
   "outputs": [],
   "source": [
    "import easygopigo3 as gpg\n",
    "import time\n",
    "\n",
    "robot = gpg.EasyGoPiGo3()\n",
    "led_port = 'AD2'\n",
    "rear_led = robot.init_led(led_port)\n",
    "\n",
    "\n",
    "time_to_wait = 2.5 # en secondes\n",
    "print(f'Tentative d''ouverture de la DEL arrière à pleine puissance. ', end='')\n",
    "rear_led.light_max()\n",
    "print(f'Succès : {rear_led.is_on()}')\n",
    "time.sleep(time_to_wait)\n",
    "\n",
    "print(f'Tentative de fermeture de la DEL arrière. ', end='')\n",
    "rear_led.light_off()\n",
    "print(f'Succès : {rear_led.is_off()}')\n",
    "time.sleep(time_to_wait)\n",
    "\n",
    "time_to_wait = 1.5 # en secondes\n",
    "for i in range(100,-20,-20):\n",
    "    print(f\"Tentative d'ouverture de la DEL arrière à {i}% de sa puissance. \", end='')\n",
    "    rear_led.light_on(i)\n",
    "    print(f'Allumée : {rear_led.is_on()}')\n",
    "    time.sleep(time_to_wait)\n",
    "\n",
    "\n",
    "del rear_led\n",
    "del led_port\n",
    "del robot\n",
    "del time\n",
    "del gpg"
   ]
  },
  {
   "cell_type": "markdown",
   "metadata": {},
   "source": [
    "### Préparation\n",
    "Faites la mise en place du code commun pour cette série d'exercices"
   ]
  },
  {
   "cell_type": "code",
   "execution_count": null,
   "metadata": {},
   "outputs": [],
   "source": [
    "# Mise en place du code commun\n",
    "# ..."
   ]
  },
  {
   "cell_type": "markdown",
   "metadata": {},
   "source": [
    "### Exercice 4.1.\n",
    "Faites clignoter la DEL à une fréquence de 0.25 seconde pendant 20 secondes."
   ]
  },
  {
   "cell_type": "code",
   "execution_count": null,
   "metadata": {},
   "outputs": [],
   "source": [
    "# Solution très simple\n",
    "# ..."
   ]
  },
  {
   "cell_type": "markdown",
   "metadata": {},
   "source": [
    "---\n",
    "### Exercice 4.2.\n",
    "Faites un programme qui assigne l'intensité de la LED dans le temps selon ce premier patron.\n",
    "<pre>\n",
    "     Intensité\n",
    "         ^\n",
    "         |\n",
    "   100 % |           *                 * * *\n",
    "    80 % |         * * *               * * *\n",
    "    60 % |       * * * * *             * * *\n",
    "    40 % |     * * * * * * *           * * *\n",
    "    20 % |   * * * * * * * * *   * * * * * * * * *\n",
    "     0 % | * * * * * * * * * * * * * * * * * * * * *\n",
    "         +-----------+---------+---------+---------+---> temps en secondes\n",
    "                    1.0       2.0       3.0       4.0 \n",
    "</pre>\n",
    "\n",
    "Ensuite, 3 fois selon ce patron.\n",
    "<pre>\n",
    "     Intensité\n",
    "         ^\n",
    "         | \n",
    "   100 % |                             * * * * * *\n",
    "    90 % |                       * * * * * * * * * * * *\n",
    "    80 % |                   * * * * * * * * * * * * * * * *\n",
    "    70 % |                 * * * * * * * * * * * * * * * * * *\n",
    "    60 % |               * * * * * * * * * * * * * * * * * * * *\n",
    "    50 % |               * * * * * * * * * * * * * * * * * * * *\n",
    "    40 % |               * * * * * * * * * * * * * * * * * * * *\n",
    "    30 % |             * * * * * * * * * * * * * * * * * * * * * *\n",
    "    20 % |           * * * * * * * * * * * * * * * * * * * * * * * *\n",
    "    10 % |       * * * * * * * * * * * * * * * * * * * * * * * * * * * *\n",
    "     0 % | * * * * * * * * * * * * * * * * * * * * * * * * * * * * * * * * * *\n",
    "         +-----------+---------+---------+---------+---------+---------+---------> temps en secondes\n",
    "                    0.5       1.0       1.5       2.0       2.5       3.0\n",
    "</pre>\n",
    "\n",
    "Tentez de trouver une façon simple et flexible de pouvoir déterminer des patrons et le nombre de fois qu'ils sont appliqués en boucle."
   ]
  },
  {
   "cell_type": "code",
   "execution_count": null,
   "metadata": {},
   "outputs": [],
   "source": [
    "# Solution\n",
    "# ..."
   ]
  },
  {
   "cell_type": "markdown",
   "metadata": {},
   "source": [
    "### Exercice 4.3.\n",
    "L'exercice précédent s'appuie sur la création d'un patron déterminé et fixe. Cette approche est flexible mais moins intéressante à utiliser si on veut un changement d'intensité tout en douceur.\n",
    "\n",
    "Faites un programme qui fait osciller la DEL selon une fonction sinusoïdale.\n",
    "\n",
    "Rappel : \n",
    " - la fonction `sin` prend en entrée un réel non borné : $(-\\infty, +\\infty)$\n",
    " - la fonction `sin` retourne un réel borné : $[-1.0, +1.0]$\n",
    " - pour cet exercice, seule la forme sinuosidale importe et non son sens mathématique lié à la trigonométrie\n",
    " \n",
    "Suggestions :\n",
    " - créez un compteur et initialisez le à 0\n",
    " - faites incrémenter le compteur par un certain interval (prendre `0.001` pour débuter)\n",
    " - déterminer l'intensité de la DEL selon la valeur de ce compteur passé dans la fonction `sin`\n",
    " - attention, il faut adapter la plage de sortie de la fonction `sin` [-1, 1] à celle de l'entrée de la fonction `light_on(...)` [0, 100]\n",
    " \n",
    " Notes : Vous observerez que la DEL _clignote_ de façon très continue et non de façon agrupte. L'effet est très intéressant et permet de faire une interface utilisateur plus agréable pour les situations le demandant."
   ]
  },
  {
   "cell_type": "code",
   "execution_count": null,
   "metadata": {},
   "outputs": [],
   "source": [
    "# Solution\n",
    "# ..."
   ]
  },
  {
   "cell_type": "markdown",
   "metadata": {},
   "source": [
    "### Exercice 4.4\n",
    "Faites un programme qui permet d'opérer la DEL avec la télécommande.\n",
    "\n",
    "Au début du programme, l'intensité initiale est de 50%. Ensuite, la télécommande permet de faire ces opérations :\n",
    " - `left` : 10%\n",
    " - `right` : 100%\n",
    " - `up` : une valeur aléatoire entre 0% et 100%\n",
    " - `down` : une valeur aléatoire entre 30% et 70%\n",
    " - `1` à `9` : la valeur en dizaine de pourcentage (1 => 10%, 2 => 20%, 3 => 30%, ...)\n",
    " - `0` : 100%\n",
    " - `ok` : 50%\n",
    " - `*` ou `#` : quitter le programme"
   ]
  },
  {
   "cell_type": "code",
   "execution_count": null,
   "metadata": {},
   "outputs": [],
   "source": [
    "# Solution\n",
    "# ..."
   ]
  }
 ],
 "metadata": {
  "interpreter": {
   "hash": "11938c6bc6919ae2720b4d5011047913343b08a43b18698fd82dedb0d4417594"
  },
  "kernelspec": {
   "display_name": "Python 3.9.1 64-bit",
   "language": "python",
   "name": "python3"
  },
  "language_info": {
   "codemirror_mode": {
    "name": "ipython",
    "version": 3
   },
   "file_extension": ".py",
   "mimetype": "text/x-python",
   "name": "python",
   "nbconvert_exporter": "python",
   "pygments_lexer": "ipython3",
   "version": "3.9.1"
  }
 },
 "nbformat": 4,
 "nbformat_minor": 4
}
