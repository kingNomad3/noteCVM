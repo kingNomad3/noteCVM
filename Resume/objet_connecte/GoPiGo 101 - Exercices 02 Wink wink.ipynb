{
 "cells": [
  {
   "cell_type": "markdown",
   "metadata": {},
   "source": [
    "---\n",
    "\n",
    "# Wink wink!\n",
    "### GoPiGo 101 - Série d'exercices 2\n",
    "##### Manipulation des **phares**.\n",
    "Les phares sont les 2 lumières rouges sont montées sur la plaquette rouge `Dexter GoPiGo3`. Ces deux diodes électroluminescentes sont situées sous la plaquette du robot à l'avant à gauche et à droite.\n",
    "\n",
    "---\n",
    "\n",
    "Les fonctions suivantes permettent la manipulation des phares :\n",
    " - `EasyGoPiGo3.blinker_on` ou `EasyGoPiGo3.led_on` : allume un phare\n",
    " - `EasyGoPiGo3.blinker_off` ou `EasyGoPiGo3.led_off` : éteint un phare\n",
    "\n",
    "### Démonstration"
   ]
  },
  {
   "cell_type": "code",
   "execution_count": 2,
   "metadata": {},
   "outputs": [],
   "source": [
    "import easygopigo3 as gpg\n",
    "import time\n",
    "\n",
    "robot = gpg.EasyGoPiGo3()\n",
    "time_to_wait = 1. # en secondes\n",
    "\n",
    "# les méthodes suivantes sont des substituts équivalents :\n",
    "#  - blinker_on <---> led_on\n",
    "#  - blinker_off <---> led_off\n",
    "# les paramètres suivants sont des substituts équivalents :\n",
    "#  - 0 <---> 'right'        # entier ou chaine de caractères\n",
    "#  - 1 <---> 'left'         # entier ou chaine de caractères\n",
    "\n",
    "robot.blinker_on(0) # 0 = droite\n",
    "robot.blinker_on(1) # 1 = gauche\n",
    "time.sleep(time_to_wait)\n",
    "\n",
    "robot.blinker_off('right') # int ou str\n",
    "robot.blinker_off('left') # int ou str\n",
    "time.sleep(time_to_wait)\n",
    "\n",
    "robot.led_on(0) # 0 = droite\n",
    "robot.led_on(1) # 1 = gauche\n",
    "time.sleep(time_to_wait)\n",
    "\n",
    "robot.led_off('right') # int ou str\n",
    "robot.led_off('left') # int ou str\n",
    "# on termine\n",
    "\n",
    "del time_to_wait\n",
    "del robot\n",
    "del time\n",
    "del gpg"
   ]
  },
  {
   "cell_type": "markdown",
   "metadata": {},
   "source": [
    "---\n",
    "### Préparation\n",
    "Faites la mise en place du code commun pour cette série d'exercices"
   ]
  },
  {
   "cell_type": "code",
   "execution_count": 3,
   "metadata": {},
   "outputs": [],
   "source": [
    "# Mise en place du code commun\n",
    "# ..."
   ]
  },
  {
   "cell_type": "markdown",
   "metadata": {},
   "source": [
    "---\n",
    "### Exercice 2.1.\n",
    "Faites une boucle faisant clignoter les 2 phares pendant 10 secondes à un cycle de 0.5 seconde."
   ]
  },
  {
   "cell_type": "code",
   "execution_count": 4,
   "metadata": {},
   "outputs": [],
   "source": [
    "# Solution\n",
    "# ..."
   ]
  },
  {
   "cell_type": "markdown",
   "metadata": {},
   "source": [
    "---\n",
    "### Exercice 2.2.\n",
    "Développez une fonction qui permet de réaliser le même objectif que celui de l'exerice `2.1.`. Votre fonction doit avoir cette signature :\n",
    "\n",
    "`simple_blink(for_n_seconds : int = 1) -> None`\n",
    "\n",
    "`for_n_seconds` doit être obligatoirement un entier limité entre 1 et 60 inclusivement.\n",
    "\n",
    "Testez votre fonction pour 5 secondes."
   ]
  },
  {
   "cell_type": "code",
   "execution_count": 13,
   "metadata": {},
   "outputs": [],
   "source": [
    "# Solution\n",
    "# ..."
   ]
  },
  {
   "cell_type": "markdown",
   "metadata": {},
   "source": [
    "---\n",
    "### Exercice 2.3.\n",
    "Développez une fonction qui permet de réaliser un clignotement un peu plus sophistiqué. Votre fonction doit avoir cette signature :\n",
    "\n",
    "`cool_blink(n_times : int = 1, cycle_duration : float = 1., percent_on : float = 0.5) -> None`\n",
    "\n",
    "où :\n",
    " - `n_times` indique le nombre de fois à clignoter\n",
    " - `cycle_duration` : indique la durée d'un cycle en secondes : cycle = ouvert->fermé\n",
    " - `percent_on` : indique le pourcentage de la durée ouverte vs fermée (en % entre 0.0 et 1.0)\n",
    "\n",
    "avec ces contraintes :\n",
    " - `n_times >= 1`\n",
    " - `cycle_duration >= 0.1`\n",
    " - `0.0 <= percent_on <= 1.0`\n",
    "\n",
    "Par exemple, l'appel suivant donne 3 clignotements d'une durée de 1.5 secondes où la lumière est ouverte à 75% du temps et fermée à 25% du temps. \n",
    "\n",
    "`cool_blink(3, 1.5, 0.75)`\n",
    "\n",
    "Faites un test avec ces 3 appels de fontion :\n",
    " - `cool_blink(3, 1.5, 0.75)`\n",
    " - `cool_blink(5, 1.0, 0.5)`\n",
    " - `cool_blink(10, 0.35, 0.1)`"
   ]
  },
  {
   "cell_type": "code",
   "execution_count": 18,
   "metadata": {},
   "outputs": [],
   "source": [
    "# Solution\n",
    "# ..."
   ]
  },
  {
   "cell_type": "markdown",
   "metadata": {},
   "source": [
    "---\n",
    "### Exercice 2.4.\n",
    "Faites cette séquence avec le robot :\n",
    " 1. avancer pendant 1 seconde -> puis arrêter\n",
    " 1. clignoter le phare gauche pendant 1 seconde avec un cycle de 0.25 seconde -> puis fermer le phare gauche\n",
    " 1. tourner à gauche pendant 1 seconde\n",
    " 1. poursuivre en ligne droite pendant 1 seconde -> puis arrêter\n",
    " 1. clignoter le phare droit pendant 1 seconde  avec un cycle de 0.25 seconde -> puis fermer le phare droit\n",
    " 1. tourner à droite pendant 1 seconde\n",
    " 1. poursuivre en ligne droite pendant 1 seconde -> puis arrêter"
   ]
  },
  {
   "cell_type": "code",
   "execution_count": 20,
   "metadata": {},
   "outputs": [],
   "source": [
    "# Solution\n",
    "# ..."
   ]
  },
  {
   "cell_type": "markdown",
   "metadata": {},
   "source": [
    "---\n",
    "### Exercice 2.5. §\n",
    "\n",
    "Considérant la variable `time_to_wait` égale à `2.3725`, faites cette séquence avec le robot :\n",
    " 1. avancez pendant `time_to_wait` secondes \n",
    " 1. arrêter pendant `time_to_wait / 2.` secondes\n",
    " 1. reculez pendant `time_to_wait` secondes\n",
    " 1. arrêter pendant `time_to_wait / 2.` secondes\n",
    " 1. tournez à droite pendant `time_to_wait` secondes\n",
    " 1. tournez à gauche pendant `time_to_wait` secondes\n",
    " 1. arrêter le robot et terminer immédiatement le programme\n",
    "    \n",
    "Toutefois, vous devez faire clignoter les phares selon cette stratégie :\n",
    " - lorsque le robot est à l'arrêt, les phares sont éteints\n",
    " - lorsque le robot avance, les 2 phares clignotent à un cycle de 0.75 seconde et ouvert à 25% du temps\n",
    " - lorsque le robot recule, les 2 phares clignotent à un cycle de 0.25 seconde et ouvert à 75% du temps\n",
    " - lorsque le robot tourne, le phare du côté tournant clignote à un cycle de 0.5 seconde alors que le phare opposé est éteint"
   ]
  },
  {
   "cell_type": "code",
   "execution_count": 21,
   "metadata": {},
   "outputs": [],
   "source": [
    "# Solution\n",
    "# ..."
   ]
  },
  {
   "cell_type": "markdown",
   "metadata": {},
   "source": [
    "---\n",
    "### Exercice 2.6. * §\n",
    "La question 2.3. est relativement simple car il y a un nombre entier de cycle - 1 cycle, 2 cycles, 10 cycles ... Le défi suivant consiste à faire une fonction qui fait clignoter pendant un certain temps peu importe où le cycle est rendu lors de l'arrêt.\n",
    "\n",
    "Développez une fonction qui permet de réaliser un clignotement selon cette signature :\n",
    "\n",
    "`blink(total_duration : float, cycle_duration : float = 1., percent_on : float = 0.5, begin_on : bool = True, end_off : bool = True) -> None`\n",
    "\n",
    "où :\n",
    " - `total_duration` indique la durée totale du clignotement\n",
    " - `cycle_duration` : indique la durée d'un cycle ouvert-fermé en secondes\n",
    " - `percent_on` : indique le pourcentage de la durée ouverte vs fermée (en % entre 0.0 et 1.0)\n",
    " - `begin_on` : indique si les phares sont ouverts ou fermés au début\n",
    " - `end_off` : indique si les phares sont ouverts ou fermés lorsque la fonction termine\n",
    "\n",
    "avec ces contraintes :\n",
    " - `total_duration >= 0.1`\n",
    " - `cycle_duration >= 0.1`\n",
    " - `0.0 <= percent_on <= 1.0`\n",
    "\n",
    "Cet exercice est plus difficile à ce moment-ci des exercices. Nous y reviendrons dans le projet final. L'important est d'au moins analyser cet énoncé et de comprendre les enjeux en place."
   ]
  },
  {
   "cell_type": "code",
   "execution_count": null,
   "metadata": {},
   "outputs": [],
   "source": [
    "# Solution\n",
    "# ..."
   ]
  }
 ],
 "metadata": {
  "interpreter": {
   "hash": "11938c6bc6919ae2720b4d5011047913343b08a43b18698fd82dedb0d4417594"
  },
  "kernelspec": {
   "display_name": "Python 3.9.1 64-bit",
   "language": "python",
   "name": "python3"
  },
  "language_info": {
   "codemirror_mode": {
    "name": "ipython",
    "version": 3
   },
   "file_extension": ".py",
   "mimetype": "text/x-python",
   "name": "python",
   "nbconvert_exporter": "python",
   "pygments_lexer": "ipython3",
   "version": "3.9.1"
  }
 },
 "nbformat": 4,
 "nbformat_minor": 4
}
